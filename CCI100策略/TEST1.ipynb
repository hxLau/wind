{
 "cells": [
  {
   "cell_type": "code",
   "execution_count": 1,
   "metadata": {},
   "outputs": [],
   "source": [
    "import pandas as pd\n",
    "import numpy as np\n",
    "import os\n",
    "import math\n",
    "import datetime\n",
    "import WindPy\n",
    "import warnings\n",
    "import time"
   ]
  },
  {
   "cell_type": "code",
   "execution_count": 2,
   "metadata": {},
   "outputs": [],
   "source": [
    "def get_index_by_wsq(code):\n",
    "    CCI = []\n",
    "    KDJ_K = []\n",
    "    KDJ_J = []\n",
    "    KDJ_D = []\n",
    "    RSI = []\n",
    "    MACD = []\n",
    "    DEA = []\n",
    "    AMT = []\n",
    "    divide_size = int(len(code)/500) + 1\n",
    "    for i in range(divide_size):\n",
    "        if i == divide_size - 1:\n",
    "            index = WindPy.w.wsq(code[i*500:], \"rt_cci_14,rt_kdj_k,rt_kdj_d,rt_kdj_j,rt_rsi_6d, rt_macd, rt_macd_diff, rt_amt\"\n",
    "                                 , usedf=True)[1]\n",
    "        else:\n",
    "            index = WindPy.w.wsq(code[i*500:(i+1)*500], \"rt_cci_14,rt_kdj_k,rt_kdj_d,rt_kdj_j,rt_rsi_6d, rt_macd, rt_macd_diff, rt_amt\"\n",
    "                                 , usedf=True)[1]\n",
    "        CCI = CCI + list(index['RT_CCI_14'].values)\n",
    "        KDJ_K = KDJ_K + list(index['RT_KDJ_K'].values)\n",
    "        KDJ_D = KDJ_D + list(index['RT_KDJ_D'].values)\n",
    "        KDJ_J = KDJ_J + list(index['RT_KDJ_J'].values)\n",
    "        RSI = RSI + list(index['RT_RSI_6D'].values)\n",
    "        MACD = MACD + list(index['RT_MACD'].values)\n",
    "        DEA = DEA + list(index['RT_MACD_DIFF'].values)\n",
    "        AMT = AMT + list(index['RT_AMT'].values)\n",
    "    return CCI, KDJ_K, KDJ_D, KDJ_J, RSI, MACD, DEA, AMT"
   ]
  },
  {
   "cell_type": "code",
   "execution_count": 3,
   "metadata": {},
   "outputs": [],
   "source": [
    "def get_data_by_wss(code, variable, para):\n",
    "    result = []\n",
    "    divide_size = int(len(code)/2000) + 1\n",
    "    for i in range(divide_size):\n",
    "        if i == divide_size - 1:\n",
    "            zfv = WindPy.w.wss(code[i*2000:], variable, para, usedf=True)[1]\n",
    "        else:\n",
    "            zfv = WindPy.w.wss(code[i*2000:(i+1)*2000], variable, para, usedf=True)[1]\n",
    "\n",
    "        item_list = list(zfv[variable].values)\n",
    "        result = result + item_list\n",
    "    return result"
   ]
  },
  {
   "cell_type": "code",
   "execution_count": 4,
   "metadata": {},
   "outputs": [
    {
     "name": "stdout",
     "output_type": "stream",
     "text": [
      "Welcome to use Wind Quant API for Python (WindPy)!\n",
      "\n",
      "COPYRIGHT (C) 2020 WIND INFORMATION CO., LTD. ALL RIGHTS RESERVED.\n",
      "IN NO CIRCUMSTANCE SHALL WIND BE RESPONSIBLE FOR ANY DAMAGES OR LOSSES CAUSED BY USING WIND QUANT API FOR Python.\n"
     ]
    },
    {
     "data": {
      "text/plain": [
       "True"
      ]
     },
     "execution_count": 4,
     "metadata": {},
     "output_type": "execute_result"
    }
   ],
   "source": [
    "WindPy.w.start()\n",
    "WindPy.w.isconnected()"
   ]
  },
  {
   "cell_type": "code",
   "execution_count": 5,
   "metadata": {},
   "outputs": [],
   "source": [
    "# 计算日期\n",
    "today = datetime.datetime.now()\n",
    "todaystr = today.strftime('%Y-%m-%d')\n",
    "yesterday = WindPy.w.tdaysoffset(-1, todaystr, \"\").Times[0]\n",
    "yesterdaystr = yesterday.strftime('%Y-%m-%d')"
   ]
  },
  {
   "cell_type": "code",
   "execution_count": 6,
   "metadata": {},
   "outputs": [],
   "source": [
    "# 获取全部股票数据\n",
    "stock_list = WindPy.w.wset(\"sectorconstituent\", \"date=\" + todaystr + \";sectorid=a001010100000000\", usedf=True)[1]\n",
    "stock_code = list(stock_list['wind_code'])\n",
    "stock_name = list(stock_list['sec_name'])"
   ]
  },
  {
   "cell_type": "code",
   "execution_count": 7,
   "metadata": {},
   "outputs": [],
   "source": [
    "# 获取指标\n",
    "CCI, KDJ_K, KDJ_D, KDJ_J, RSI, MACD, DEA, AMT = get_index_by_wsq(stock_code)"
   ]
  },
  {
   "cell_type": "code",
   "execution_count": 8,
   "metadata": {},
   "outputs": [],
   "source": [
    "# 利用MACD值和DEA值计算DIF值\n",
    "DIF = []\n",
    "for i in range(len(MACD)):\n",
    "    DIF.append(MACD[i]/2 + DEA[i])"
   ]
  },
  {
   "cell_type": "code",
   "execution_count": 9,
   "metadata": {},
   "outputs": [],
   "source": [
    "# 获取上个交易日的指标\n",
    "last_RSI = get_data_by_wss(stock_code, \"RSI\",\"tradeDate=\" + yesterdaystr + \";RSI_N=6;priceAdj=U;cycle=D\")\n",
    "last_CCI = get_data_by_wss(stock_code, \"CCI\",\"tradeDate=\" + yesterdaystr + \";CCI_N=14;priceAdj=U;cycle=D\")\n",
    "last_AMT = get_data_by_wss(stock_code, \"AMT\",\"tradeDate=\" + yesterdaystr + \";cycle=D\")"
   ]
  },
  {
   "cell_type": "code",
   "execution_count": 10,
   "metadata": {},
   "outputs": [],
   "source": [
    "# 设定的超参数\n",
    "CCI_UL = 101\n",
    "CCI_DL = 80"
   ]
  },
  {
   "cell_type": "code",
   "execution_count": 11,
   "metadata": {},
   "outputs": [],
   "source": [
    "choose_stock = []\n",
    "for i in range(len(stock_code)):\n",
    "    cci_raise_bool = CCI[i] > last_CCI[i]\n",
    "    cci_range_bool = CCI[i] < CCI_UL and CCI[i] > CCI_DL\n",
    "    # KDJ线向上是J>K>D\n",
    "    kdj_raise_bool = KDJ_J[i] > KDJ_K[i] and KDJ_K[i] > KDJ_D[i]\n",
    "    rsi_raise_bool = RSI[i] > last_RSI[i]\n",
    "    macd_jincha_bool = MACD[i]> 0\n",
    "    if cci_raise_bool and cci_range_bool and kdj_raise_bool and rsi_raise_bool and macd_jincha_bool:\n",
    "        choose_stock.append(i)"
   ]
  },
  {
   "cell_type": "code",
   "execution_count": 23,
   "metadata": {},
   "outputs": [],
   "source": [
    "c_no = [i for i in range(1,len(choose_stock)+1)]\n",
    "c_code = []\n",
    "c_name = []\n",
    "c_k_cci = []\n",
    "c_cci = []\n",
    "c_amt_ratio = []\n",
    "c_kdj_j = []\n",
    "c_rsi = []\n",
    "c_dif = []\n",
    "for i in range(len(choose_stock)):\n",
    "    c_code.append(stock_code[choose_stock[i]])\n",
    "    c_name.append(stock_name[choose_stock[i]])\n",
    "    # 斜率公式要改\n",
    "    c_k_cci.append(CCI[choose_stock[i]] - last_CCI[choose_stock[i]])\n",
    "    c_cci.append(CCI[choose_stock[i]])\n",
    "    c_amt_ratio.append(AMT[choose_stock[i]] - last_AMT[choose_stock[i]])\n",
    "    c_kdj_j.append(KDJ_J[choose_stock[i]])\n",
    "    c_rsi.append(RSI[choose_stock[i]])\n",
    "    c_dif.append(DIF[choose_stock[i]])"
   ]
  },
  {
   "cell_type": "code",
   "execution_count": 25,
   "metadata": {},
   "outputs": [],
   "source": [
    "dic = {'序列号': c_no,\n",
    "       '股票代码': c_code,\n",
    "       '股票名称': c_name,\n",
    "      'CCI曲线斜率': c_k_cci,\n",
    "      'CCI值': c_cci,\n",
    "      '成交额比': c_amt_ratio,\n",
    "      'KDJ值（J值）': c_kdj_j,\n",
    "      'RSI(R1值)': c_rsi,\n",
    "      'MACD(DIF值)': c_dif}"
   ]
  },
  {
   "cell_type": "code",
   "execution_count": 27,
   "metadata": {},
   "outputs": [],
   "source": [
    "new_dataframe = pd.DataFrame(data=dic)"
   ]
  },
  {
   "cell_type": "code",
   "execution_count": 30,
   "metadata": {},
   "outputs": [],
   "source": [
    "excel_path = './data/' + todaystr + '.xlsx'\n",
    "new_dataframe.to_excel(excel_path, index=False)"
   ]
  },
  {
   "cell_type": "code",
   "execution_count": null,
   "metadata": {},
   "outputs": [],
   "source": []
  }
 ],
 "metadata": {
  "kernelspec": {
   "display_name": "Python 3",
   "language": "python",
   "name": "python3"
  },
  "language_info": {
   "codemirror_mode": {
    "name": "ipython",
    "version": 3
   },
   "file_extension": ".py",
   "mimetype": "text/x-python",
   "name": "python",
   "nbconvert_exporter": "python",
   "pygments_lexer": "ipython3",
   "version": "3.7.4"
  }
 },
 "nbformat": 4,
 "nbformat_minor": 2
}
